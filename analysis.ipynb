{
 "cells": [
  {
   "cell_type": "code",
   "execution_count": null,
   "id": "1977a922",
   "metadata": {},
   "outputs": [],
   "source": [
    "import numpy as np\n",
    "import matplotlib.pyplot as plt\n",
    "import pandas as pd\n",
    "import seaborn as sns\n",
    "import geopandas as gpd\n",
    "\n",
    "plt.style.use('ggplot')"
   ]
  },
  {
   "cell_type": "markdown",
   "id": "1a17c2c4",
   "metadata": {},
   "source": [
    "<table border=1 border-collapse=\"collapse\" width=\"100%\">\n",
    "  <thead>\n",
    "    <th>\n",
    "      <img src=\"https://static.wikia.nocookie.net/logopedia/images/5/52/EPM2007.png/revision/latest?cb=20210505181105&path-prefix=es\" width=\"320px\" height=\"270px\" />\n",
    "    </th>\n",
    "    <th>\n",
    "      <h1>Análisis de Datos para la Gestión de Residuos de Construcción y Demolición (RCD) en Antioquia</h1>\n",
    "    </th>\n",
    "  </thead>\n",
    "</table>"
   ]
  },
  {
   "cell_type": "code",
   "execution_count": null,
   "id": "886b7fcd",
   "metadata": {},
   "outputs": [],
   "source": [
    "data = pd.read_csv('./DATA/itemsEjec.csv')\n",
    "\n",
    "data.head()"
   ]
  },
  {
   "cell_type": "code",
   "execution_count": null,
   "id": "86dd3f07",
   "metadata": {},
   "outputs": [],
   "source": [
    "subDict = {\n",
    "    'Municipio': list(),\n",
    "    'Subregion': list(),\n",
    "    'Aprovechamiento': list(),\n",
    "    'DispFinal': list(),\n",
    "    'Percent': list()\n",
    "}\n",
    "\n",
    "for i in range(0, len(data), 1):\n",
    "    row = data.iloc[i]\n",
    "    subDict['Municipio'].append(row['Municipio'])\n",
    "    subDict['Subregion'].append(row['Subregion'])\n",
    "    more = 0\n",
    "    less = 0\n",
    "    # TIERRAS\n",
    "    if row['areaTierras']:\n",
    "        more += row['tierras']\n",
    "    else:\n",
    "        less += row['tierras']\n",
    "    # ROCA\n",
    "    if row['areaRoca']:\n",
    "        more += row['roca']\n",
    "    else:\n",
    "        less += row['roca']\n",
    "    # CONCRETO\n",
    "    if row['areaConcreto']:\n",
    "        more += row['concreto']\n",
    "    else:\n",
    "        less += row['concreto']\n",
    "    # PAVIMENTO\n",
    "    if row['areaPavimento']:\n",
    "        more += row['pavimento']\n",
    "    else:\n",
    "        less += row['pavimento']\n",
    "    subDict['Aprovechamiento'].append(more)\n",
    "    subDict['DispFinal'].append(less)\n",
    "    subDict['Percent'].append(100*more/(more + less))\n",
    "\n",
    "df = pd.DataFrame(subDict)\n",
    "\n",
    "sns.barplot(\n",
    "    data=df[df['Percent'] > 0].sort_values(by=['Subregion', 'Municipio'], ascending=[False, True]),\n",
    "    x='Percent',\n",
    "    y='Municipio',\n",
    "    hue='Subregion',\n",
    "    errorbar=None,\n",
    "    palette=sns.color_palette(['#154D71', '#E43636', '#386641'])\n",
    ")\n",
    "\n",
    "plt.title('Porcentaje de aprovechamiento por municipio')\n",
    "plt.xlabel('% de aprovechamiento')\n",
    "\n",
    "plt.show()"
   ]
  },
  {
   "cell_type": "code",
   "execution_count": null,
   "id": "b07f9277",
   "metadata": {},
   "outputs": [],
   "source": [
    "percent = 100*df['Aprovechamiento'].sum() / (df['Aprovechamiento'].sum() + df['DispFinal'].sum())\n",
    "\n",
    "print('El porcentaje general de aprovechamiento de RCD en Antioquia fue del ' + str(round(percent, 2)) + '%')"
   ]
  },
  {
   "cell_type": "code",
   "execution_count": null,
   "id": "ffea49a5",
   "metadata": {},
   "outputs": [],
   "source": [
    "gdf = gpd.read_file('./QGIS/Antioquia.gpkg', layer='Municipios')\n",
    "\n",
    "noEPM = set(gdf['MpNombre']) - set(df['Municipio'])\n",
    "\n",
    "for i in list(noEPM):\n",
    "    subDict['Municipio'].append(i)\n",
    "    subDict['Subregion'].append(list(gdf[gdf['MpNombre'] == 'MEDELLIN']['Mp_SUBREGI'])[0])\n",
    "    subDict['Aprovechamiento'].append(0)\n",
    "    subDict['DispFinal'].append(0)\n",
    "    subDict['Percent'].append(0)\n",
    "\n",
    "df = pd.DataFrame(subDict).groupby(['Municipio', 'Subregion']).mean()\n",
    "\n",
    "gdf = gdf.merge(df, left_on='MpNombre', right_on='Municipio', sort=True)\n",
    "\n",
    "gdf.describe()"
   ]
  },
  {
   "cell_type": "code",
   "execution_count": null,
   "id": "9a484dd1",
   "metadata": {},
   "outputs": [],
   "source": [
    "gdf.plot(\n",
    "    column='Percent',\n",
    "    cmap='Greens',\n",
    "    legend=True,\n",
    "    vmin=0, vmax=100\n",
    ")\n",
    "\n",
    "plt.title('Distribución espacia del aprovechamiento de los RCD')\n",
    "\n",
    "plt.show()"
   ]
  }
 ],
 "metadata": {
  "kernelspec": {
   "display_name": "rcd",
   "language": "python",
   "name": "python3"
  },
  "language_info": {
   "codemirror_mode": {
    "name": "ipython",
    "version": 3
   },
   "file_extension": ".py",
   "mimetype": "text/x-python",
   "name": "python",
   "nbconvert_exporter": "python",
   "pygments_lexer": "ipython3",
   "version": "3.13.5"
  }
 },
 "nbformat": 4,
 "nbformat_minor": 5
}
