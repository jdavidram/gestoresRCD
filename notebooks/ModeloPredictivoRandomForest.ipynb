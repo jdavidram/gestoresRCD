{
  "cells": [
    {
      "cell_type": "code",
      "execution_count": null,
      "metadata": {
        "id": "0l76oI_lMqD-"
      },
      "outputs": [],
      "source": [
        "# librerías necesarias\n",
        "import pandas as pd"
      ]
    },
    {
      "cell_type": "code",
      "execution_count": null,
      "metadata": {
        "id": "zBlvkhe0OtYG"
      },
      "outputs": [],
      "source": [
        "# cargar el conjunto de datos\n",
        "data = pd.read_csv('data/itemsEjec.csv')"
      ]
    },
    {
      "cell_type": "code",
      "execution_count": null,
      "metadata": {
        "colab": {
          "base_uri": "https://localhost:8080/"
        },
        "id": "FVoRK95UO6zW",
        "outputId": "7c3ec025-a049-4159-9a5f-d58e580f46a4"
      },
      "outputs": [
        {
          "name": "stdout",
          "output_type": "stream",
          "text": [
            "\n",
            "Mapa usado: ['BELLO' 'ITUANGO' 'CAREPA' 'TURBO' 'CHIGORODO' 'ARBOLETES' 'NECOCLI'\n",
            " 'CAROLINA DEL PRINCIPE' 'MEDELLIN' 'ENVIGADO' 'GIRARDOTA' 'SABANETA'\n",
            " 'GOMEZ PLATA' 'REMEDIOS' 'SAN JERONIMO' 'EL RETIRO'\n",
            " 'SANTAFE DE ANTIOQUIA' 'BELMIRA' 'SOPETRAN' 'COPACABANA' 'CALDAS'\n",
            " 'ITAGUI' 'LA ESTRELLA' 'GUARNE' 'BETULIA' 'VENECIA' 'AMAGA' 'CONCORDIA'\n",
            " 'TARSO' 'TAMESIS' 'PUEBLORRICO' 'SANTA BARBARA'\n",
            " 'SAN PEDRO DE LOS MILAGROS' 'SAN ANDRES DE CUERQUIA' 'AMALFI' 'LIBORINA'\n",
            " 'SAN ROQUE' 'DONMATIAS' 'YARUMAL' 'SAN CARLOS' 'SANTA ROSA DE OSOS'\n",
            " 'BARBOSA' 'SAN RAFAEL' 'SONSON' 'URRAO' 'BETANIA' 'CIUDAD BOLIVAR'\n",
            " 'LA CEJA' 'HISPANIA' 'CARAMANTA' 'JARDIN' 'GUATAPE' 'LA UNION'\n",
            " 'ANGELOPOLIS' 'TITIRIBI' 'SAN LUIS' 'SALGAR' 'JERICO' 'ABEJORRAL'\n",
            " 'CONCEPCION' 'MONTEBELLO' 'VALPARAISO' 'FREDONIA' 'EL PEÑOL'\n",
            " 'SAN VICENTE' 'YALI' 'PUERTO BERRIO' 'TOLEDO' 'YOLOMBO' 'MACEO'\n",
            " 'CAÑASGORDAS' 'ENTRERRIOS' 'SAN JOSE DE LA MONTAÑA' 'CARACOLI' 'DABEIBA'\n",
            " 'OLAYA' 'PUERTO NARE' 'COCORNA' 'VEGACHI' 'FRONTINO' 'SANTO DOMINGO'\n",
            " 'CISNEROS' 'VALDIVIA' 'GUADALUPE' 'APARTADO' 'MUTATA' 'SAN JUAN DE URABA'\n",
            " 'SAN PEDRO DE URABA' 'GRANADA' 'SABANALARGA']\n",
            "       Municipio  Latitud_Y  Longitud_X  areaPavimento  areaConcreto  \\\n",
            "0              1   6.351080  -75.518336              1             1   \n",
            "1              2   7.064548  -75.683927              0             0   \n",
            "2              3   7.847447  -76.740111              0             0   \n",
            "3              4   7.930575  -76.623300              0             0   \n",
            "4              3   7.759252  -76.652718              0             0   \n",
            "...          ...        ...         ...            ...           ...   \n",
            "11557          4   8.091592  -76.729982              0             0   \n",
            "11558          4   8.093390  -76.732328              0             0   \n",
            "11559         85   7.876862  -76.625447              0             0   \n",
            "11560         85   7.883976  -76.623767              0             0   \n",
            "11561          7   8.421358  -76.785674              0             0   \n",
            "\n",
            "       areaRoca  areaTierras  \n",
            "0             1            0  \n",
            "1             0            0  \n",
            "2             0            0  \n",
            "3             0            0  \n",
            "4             0            0  \n",
            "...         ...          ...  \n",
            "11557         0            0  \n",
            "11558         0            0  \n",
            "11559         0            0  \n",
            "11560         0            0  \n",
            "11561         0            0  \n",
            "\n",
            "[11562 rows x 7 columns]\n",
            "{'BELLO': 1, 'ITUANGO': 2, 'CAREPA': 3, 'TURBO': 4, 'CHIGORODO': 5, 'ARBOLETES': 6, 'NECOCLI': 7, 'CAROLINA DEL PRINCIPE': 8, 'MEDELLIN': 9, 'ENVIGADO': 10, 'GIRARDOTA': 11, 'SABANETA': 12, 'GOMEZ PLATA': 13, 'REMEDIOS': 14, 'SAN JERONIMO': 15, 'EL RETIRO': 16, 'SANTAFE DE ANTIOQUIA': 17, 'BELMIRA': 18, 'SOPETRAN': 19, 'COPACABANA': 20, 'CALDAS': 21, 'ITAGUI': 22, 'LA ESTRELLA': 23, 'GUARNE': 24, 'BETULIA': 25, 'VENECIA': 26, 'AMAGA': 27, 'CONCORDIA': 28, 'TARSO': 29, 'TAMESIS': 30, 'PUEBLORRICO': 31, 'SANTA BARBARA': 32, 'SAN PEDRO DE LOS MILAGROS': 33, 'SAN ANDRES DE CUERQUIA': 34, 'AMALFI': 35, 'LIBORINA': 36, 'SAN ROQUE': 37, 'DONMATIAS': 38, 'YARUMAL': 39, 'SAN CARLOS': 40, 'SANTA ROSA DE OSOS': 41, 'BARBOSA': 42, 'SAN RAFAEL': 43, 'SONSON': 44, 'URRAO': 45, 'BETANIA': 46, 'CIUDAD BOLIVAR': 47, 'LA CEJA': 48, 'HISPANIA': 49, 'CARAMANTA': 50, 'JARDIN': 51, 'GUATAPE': 52, 'LA UNION': 53, 'ANGELOPOLIS': 54, 'TITIRIBI': 55, 'SAN LUIS': 56, 'SALGAR': 57, 'JERICO': 58, 'ABEJORRAL': 59, 'CONCEPCION': 60, 'MONTEBELLO': 61, 'VALPARAISO': 62, 'FREDONIA': 63, 'EL PEÑOL': 64, 'SAN VICENTE': 65, 'YALI': 66, 'PUERTO BERRIO': 67, 'TOLEDO': 68, 'YOLOMBO': 69, 'MACEO': 70, 'CAÑASGORDAS': 71, 'ENTRERRIOS': 72, 'SAN JOSE DE LA MONTAÑA': 73, 'CARACOLI': 74, 'DABEIBA': 75, 'OLAYA': 76, 'PUERTO NARE': 77, 'COCORNA': 78, 'VEGACHI': 79, 'FRONTINO': 80, 'SANTO DOMINGO': 81, 'CISNEROS': 82, 'VALDIVIA': 83, 'GUADALUPE': 84, 'APARTADO': 85, 'MUTATA': 86, 'SAN JUAN DE URABA': 87, 'SAN PEDRO DE URABA': 88, 'GRANADA': 89, 'SABANALARGA': 90}\n"
          ]
        }
      ],
      "source": [
        "#reemplazar la columna municipios por valores numéricos\n",
        "municipios_unicos = data[\"Municipio\"].unique()\n",
        "mapeo_municipios = {mun: i+1 for i, mun in enumerate(municipios_unicos)}\n",
        "data[\"Municipio\"] = data[\"Municipio\"].map(mapeo_municipios)\n",
        "print(\"\\nMapa usado:\", municipios_unicos)\n",
        "\n",
        "# Reemplazar True/False por 1/0 en todas las columnas booleanas\n",
        "bool_cols = data.select_dtypes(include=[\"bool\"]).columns\n",
        "data[bool_cols] = data[bool_cols].astype(int)\n",
        "\n",
        "# seleccionamos las columnas para el modelo\n",
        "data = data[[\"Municipio\", \"Latitud_Y\", \"Longitud_X\", \"areaPavimento\", \"areaConcreto\", \"areaRoca\", \"areaTierras\"]]\n",
        "\n",
        "# dataframe listo para el modelo de bosques aleatorios\n",
        "print(data)"
      ]
    },
    {
      "cell_type": "code",
      "execution_count": null,
      "metadata": {
        "colab": {
          "base_uri": "https://localhost:8080/"
        },
        "id": "-NNkRAvNSt3z",
        "outputId": "1833403f-1100-42d3-b6de-0e7d41d6646a"
      },
      "outputs": [
        {
          "name": "stdout",
          "output_type": "stream",
          "text": [
            "✅ Archivo guardado\n"
          ]
        }
      ],
      "source": [
        "data.to_csv(\"datos_modelo_random_forest.csv\", index=False, encoding=\"utf-8\")\n",
        "\n",
        "print(\"✅ Archivo guardado\")\n",
        "\n",
        "df_mapeo = pd.DataFrame(list(mapeo_municipios.items()), columns=[\"Municipio\", \"Codigo\"])\n",
        "\n",
        "# exportar a CSV\n",
        "df_mapeo.to_csv(\"mapeo_municipios.csv\", index=False)"
      ]
    },
    {
      "cell_type": "code",
      "execution_count": null,
      "metadata": {
        "id": "VgEYCvRGSYM-"
      },
      "outputs": [],
      "source": [
        "# importar librerías necesarias\n",
        "import numpy as np\n",
        "import pandas as pd\n",
        "from sklearn.model_selection import train_test_split, GridSearchCV, StratifiedKFold\n",
        "from sklearn.ensemble import RandomForestClassifier\n",
        "from sklearn.metrics import (accuracy_score, classification_report, confusion_matrix,\n",
        "                             ConfusionMatrixDisplay, f1_score, roc_auc_score)\n",
        "import matplotlib.pyplot as plt\n",
        "import seaborn as sns\n",
        "\n",
        "from sklearn.model_selection import train_test_split, GridSearchCV\n",
        "from sklearn.ensemble import RandomForestClassifier\n",
        "from sklearn.metrics import classification_report, confusion_matrix"
      ]
    },
    {
      "cell_type": "code",
      "execution_count": null,
      "metadata": {
        "colab": {
          "base_uri": "https://localhost:8080/"
        },
        "id": "GkwtZsxfU-tt",
        "outputId": "26d7f08d-73fb-4d4f-b700-74d19a67de81"
      },
      "outputs": [
        {
          "name": "stdout",
          "output_type": "stream",
          "text": [
            "Fitting 5 folds for each of 324 candidates, totalling 1620 fits\n",
            "Mejores parámetros: {'criterion': 'entropy', 'max_depth': None, 'max_features': 'sqrt', 'min_samples_leaf': 1, 'min_samples_split': 2, 'n_estimators': 100}\n",
            "Mejor F1 en CV: 0.9998636673483299\n",
            "\n",
            "Matriz de confusión:\n",
            "[[1898    1]\n",
            " [   1 1569]]\n",
            "\n",
            "Reporte de clasificación:\n",
            "              precision    recall  f1-score   support\n",
            "\n",
            "           0       1.00      1.00      1.00      1899\n",
            "           1       1.00      1.00      1.00      1570\n",
            "\n",
            "    accuracy                           1.00      3469\n",
            "   macro avg       1.00      1.00      1.00      3469\n",
            "weighted avg       1.00      1.00      1.00      3469\n",
            "\n"
          ]
        }
      ],
      "source": [
        "# Encontrar mejor modelo para \"areaPavimento\"\n",
        "# Datos\n",
        "X = data[[\"Municipio\", \"Latitud_Y\", \"Longitud_X\"]]\n",
        "y = data[\"areaPavimento\"]\n",
        "\n",
        "# Dividir datos manteniendo proporciones\n",
        "Xtr, Xte, ytr, yte = train_test_split(\n",
        "    X, y,\n",
        "    test_size=0.3,\n",
        "    random_state=42,\n",
        "    stratify=y\n",
        ")\n",
        "\n",
        "# Definimos búsqueda de hiperparámetros\n",
        "param_grid = {\n",
        "    'n_estimators': [100, 200, 300],\n",
        "    'max_depth': [None, 5, 10],\n",
        "    'min_samples_split': [2, 5, 10],\n",
        "    'min_samples_leaf': [1, 2, 4],\n",
        "    'max_features': ['sqrt', 'log2'],\n",
        "    'criterion': ['gini', 'entropy']\n",
        "}\n",
        "\n",
        "# Modelo base\n",
        "rf = RandomForestClassifier(random_state=42)\n",
        "\n",
        "# GridSearchCV para optimizar\n",
        "grid_search = GridSearchCV(\n",
        "    rf,\n",
        "    param_grid,\n",
        "    scoring='f1',  # optimizamos F1 para balancear precisión y recall\n",
        "    cv=5,\n",
        "    n_jobs=-1,\n",
        "    verbose=1\n",
        ")\n",
        "\n",
        "# Entrenar\n",
        "grid_search.fit(Xtr, ytr)\n",
        "\n",
        "# Mejor combinación encontrada\n",
        "print(\"Mejores parámetros:\", grid_search.best_params_)\n",
        "print(\"Mejor F1 en CV:\", grid_search.best_score_)\n",
        "\n",
        "# Entrenar modelo final con los mejores parámetros\n",
        "mejor_modelo = grid_search.best_estimator_\n",
        "y_pred = mejor_modelo.predict(Xte)\n",
        "\n",
        "# Evaluación\n",
        "print(\"\\nMatriz de confusión:\")\n",
        "print(confusion_matrix(yte, y_pred))\n",
        "print(\"\\nReporte de clasificación:\")\n",
        "print(classification_report(yte, y_pred))"
      ]
    },
    {
      "cell_type": "code",
      "execution_count": null,
      "metadata": {
        "colab": {
          "base_uri": "https://localhost:8080/"
        },
        "id": "LOYte7rSePfR",
        "outputId": "e8406f72-ea89-4ab9-9053-aac69395dea8"
      },
      "outputs": [
        {
          "name": "stdout",
          "output_type": "stream",
          "text": [
            "\n",
            "Matriz de confusión:\n",
            "[[1898    1]\n",
            " [   1 1569]]\n",
            "\n",
            "Reporte de clasificación:\n",
            "              precision    recall  f1-score   support\n",
            "\n",
            "           0       1.00      1.00      1.00      1899\n",
            "           1       1.00      1.00      1.00      1570\n",
            "\n",
            "    accuracy                           1.00      3469\n",
            "   macro avg       1.00      1.00      1.00      3469\n",
            "weighted avg       1.00      1.00      1.00      3469\n",
            "\n"
          ]
        }
      ],
      "source": [
        "# modelo definitivo para \"areaPavimento\"\n",
        "\n",
        "# Datos\n",
        "X = data[[\"Municipio\", \"Latitud_Y\", \"Longitud_X\"]]\n",
        "y = data[\"areaPavimento\"]\n",
        "\n",
        "# Dividir datos manteniendo proporciones\n",
        "Xtr, Xte, ytr, yte = train_test_split(\n",
        "    X, y,\n",
        "    test_size=0.3,\n",
        "    random_state=42,\n",
        "    stratify=y\n",
        ")\n",
        "\n",
        "# Entrenar modelo final con los mejores parámetros\n",
        "mejor_modelo_pavimento = RandomForestClassifier(\n",
        "    criterion='entropy',\n",
        "    max_depth=None,\n",
        "    max_features='sqrt',\n",
        "    min_samples_leaf=1,\n",
        "    min_samples_split=2,\n",
        "    n_estimators=100,\n",
        "    random_state=42\n",
        ")\n",
        "\n",
        "mejor_modelo_pavimento.fit(Xtr, ytr)\n",
        "\n",
        "# Predicciones\n",
        "y_pred = mejor_modelo_pavimento.predict(Xte)\n",
        "\n",
        "# Evaluación\n",
        "print(\"\\nMatriz de confusión:\")\n",
        "print(confusion_matrix(yte, y_pred))\n",
        "\n",
        "print(\"\\nReporte de clasificación:\")\n",
        "print(classification_report(yte, y_pred))"
      ]
    },
    {
      "cell_type": "code",
      "execution_count": null,
      "metadata": {
        "colab": {
          "base_uri": "https://localhost:8080/"
        },
        "id": "ejgcleQBeakC",
        "outputId": "822f7b98-b070-444a-fc63-7386fee86537"
      },
      "outputs": [
        {
          "name": "stdout",
          "output_type": "stream",
          "text": [
            "Fitting 5 folds for each of 324 candidates, totalling 1620 fits\n",
            "Mejores parámetros: {'criterion': 'gini', 'max_depth': 10, 'max_features': 'sqrt', 'min_samples_leaf': 1, 'min_samples_split': 2, 'n_estimators': 100}\n",
            "Mejor F1 en CV: 0.9992183137911782\n",
            "\n",
            "Matriz de confusión:\n",
            "[[1548    0]\n",
            " [   0 1921]]\n",
            "\n",
            "Reporte de clasificación:\n",
            "              precision    recall  f1-score   support\n",
            "\n",
            "           0       1.00      1.00      1.00      1548\n",
            "           1       1.00      1.00      1.00      1921\n",
            "\n",
            "    accuracy                           1.00      3469\n",
            "   macro avg       1.00      1.00      1.00      3469\n",
            "weighted avg       1.00      1.00      1.00      3469\n",
            "\n"
          ]
        }
      ],
      "source": [
        "# Encontrar mejor modelo para \"areaConcreto\"\n",
        "# Datos\n",
        "X = data[[\"Municipio\", \"Latitud_Y\", \"Longitud_X\"]]\n",
        "y = data[\"areaConcreto\"]\n",
        "\n",
        "# Dividir datos manteniendo proporciones\n",
        "Xtr, Xte, ytr, yte = train_test_split(\n",
        "    X, y,\n",
        "    test_size=0.3,\n",
        "    random_state=42,\n",
        "    stratify=y\n",
        ")\n",
        "\n",
        "# Definimos búsqueda de hiperparámetros\n",
        "param_grid = {\n",
        "    'n_estimators': [100, 200, 300],\n",
        "    'max_depth': [None, 5, 10],\n",
        "    'min_samples_split': [2, 5, 10],\n",
        "    'min_samples_leaf': [1, 2, 4],\n",
        "    'max_features': ['sqrt', 'log2'],\n",
        "    'criterion': ['gini', 'entropy']\n",
        "}\n",
        "\n",
        "# Modelo base\n",
        "rf = RandomForestClassifier(random_state=42)\n",
        "\n",
        "# GridSearchCV para optimizar\n",
        "grid_search = GridSearchCV(\n",
        "    rf,\n",
        "    param_grid,\n",
        "    scoring='f1',  # optimizamos F1 para balancear precisión y recall\n",
        "    cv=5,\n",
        "    n_jobs=-1,\n",
        "    verbose=1\n",
        ")\n",
        "\n",
        "# Entrenar\n",
        "grid_search.fit(Xtr, ytr)\n",
        "\n",
        "# Mejor combinación encontrada\n",
        "print(\"Mejores parámetros:\", grid_search.best_params_)\n",
        "print(\"Mejor F1 en CV:\", grid_search.best_score_)\n",
        "\n",
        "# Entrenar modelo final con los mejores parámetros\n",
        "mejor_modelo = grid_search.best_estimator_\n",
        "y_pred = mejor_modelo.predict(Xte)\n",
        "\n",
        "# Evaluación\n",
        "print(\"\\nMatriz de confusión:\")\n",
        "print(confusion_matrix(yte, y_pred))\n",
        "print(\"\\nReporte de clasificación:\")\n",
        "print(classification_report(yte, y_pred))"
      ]
    },
    {
      "cell_type": "code",
      "execution_count": null,
      "metadata": {
        "colab": {
          "base_uri": "https://localhost:8080/"
        },
        "id": "43efuK4Don-1",
        "outputId": "8c3985b1-9114-4d22-804c-761ff994bc38"
      },
      "outputs": [
        {
          "name": "stdout",
          "output_type": "stream",
          "text": [
            "\n",
            "Matriz de confusión:\n",
            "[[1548    0]\n",
            " [   0 1921]]\n",
            "\n",
            "Reporte de clasificación:\n",
            "              precision    recall  f1-score   support\n",
            "\n",
            "           0       1.00      1.00      1.00      1548\n",
            "           1       1.00      1.00      1.00      1921\n",
            "\n",
            "    accuracy                           1.00      3469\n",
            "   macro avg       1.00      1.00      1.00      3469\n",
            "weighted avg       1.00      1.00      1.00      3469\n",
            "\n"
          ]
        }
      ],
      "source": [
        "# modelo definitivo para \"areaConcreto\"\n",
        "\n",
        "# Datos\n",
        "X = data[[\"Municipio\", \"Latitud_Y\", \"Longitud_X\"]]\n",
        "y = data[\"areaConcreto\"]\n",
        "\n",
        "# Dividir datos manteniendo proporciones\n",
        "Xtr, Xte, ytr, yte = train_test_split(\n",
        "    X, y,\n",
        "    test_size=0.3,\n",
        "    random_state=42,\n",
        "    stratify=y\n",
        ")\n",
        "\n",
        "# Entrenar modelo final con los mejores parámetros\n",
        "mejor_modelo_concreto = RandomForestClassifier(\n",
        "    criterion='gini',\n",
        "    max_depth=10,\n",
        "    max_features='sqrt',\n",
        "    min_samples_leaf=1,\n",
        "    min_samples_split=2,\n",
        "    n_estimators=100,\n",
        "    random_state=42\n",
        ")\n",
        "\n",
        "mejor_modelo_concreto.fit(Xtr, ytr)\n",
        "\n",
        "# Predicciones\n",
        "y_pred = mejor_modelo_concreto.predict(Xte)\n",
        "\n",
        "# Evaluación\n",
        "print(\"\\nMatriz de confusión:\")\n",
        "print(confusion_matrix(yte, y_pred))\n",
        "\n",
        "print(\"\\nReporte de clasificación:\")\n",
        "print(classification_report(yte, y_pred))\n"
      ]
    },
    {
      "cell_type": "code",
      "execution_count": null,
      "metadata": {
        "colab": {
          "base_uri": "https://localhost:8080/"
        },
        "id": "WVvti2Y6tDGB",
        "outputId": "ed7b8c27-bd58-4618-dd7d-d1192a5d9edc"
      },
      "outputs": [
        {
          "name": "stdout",
          "output_type": "stream",
          "text": [
            "Fitting 5 folds for each of 324 candidates, totalling 1620 fits\n",
            "Mejores parámetros: {'criterion': 'gini', 'max_depth': None, 'max_features': 'sqrt', 'min_samples_leaf': 1, 'min_samples_split': 2, 'n_estimators': 100}\n",
            "Mejor F1 en CV: 0.9992185630533619\n",
            "\n",
            "Matriz de confusión:\n",
            "[[1549    0]\n",
            " [   0 1920]]\n",
            "\n",
            "Reporte de clasificación:\n",
            "              precision    recall  f1-score   support\n",
            "\n",
            "           0       1.00      1.00      1.00      1549\n",
            "           1       1.00      1.00      1.00      1920\n",
            "\n",
            "    accuracy                           1.00      3469\n",
            "   macro avg       1.00      1.00      1.00      3469\n",
            "weighted avg       1.00      1.00      1.00      3469\n",
            "\n"
          ]
        }
      ],
      "source": [
        "# Encontrar mejor modelo para \"areaRoca\"\n",
        "# Datos\n",
        "X = data[[\"Municipio\", \"Latitud_Y\", \"Longitud_X\"]]\n",
        "y = data[\"areaRoca\"]\n",
        "\n",
        "# Dividir datos manteniendo proporciones\n",
        "Xtr, Xte, ytr, yte = train_test_split(\n",
        "    X, y,\n",
        "    test_size=0.3,\n",
        "    random_state=42,\n",
        "    stratify=y\n",
        ")\n",
        "\n",
        "# Definimos búsqueda de hiperparámetros\n",
        "param_grid = {\n",
        "    'n_estimators': [100, 200, 300],\n",
        "    'max_depth': [None, 5, 10],\n",
        "    'min_samples_split': [2, 5, 10],\n",
        "    'min_samples_leaf': [1, 2, 4],\n",
        "    'max_features': ['sqrt', 'log2'],\n",
        "    'criterion': ['gini', 'entropy']\n",
        "}\n",
        "\n",
        "# Modelo base\n",
        "rf = RandomForestClassifier(random_state=42)\n",
        "\n",
        "# GridSearchCV para optimizar\n",
        "grid_search = GridSearchCV(\n",
        "    rf,\n",
        "    param_grid,\n",
        "    scoring='f1',  # optimizamos F1 para balancear precisión y recall\n",
        "    cv=5,\n",
        "    n_jobs=-1,\n",
        "    verbose=1\n",
        ")\n",
        "\n",
        "# Entrenar\n",
        "grid_search.fit(Xtr, ytr)\n",
        "\n",
        "# Mejor combinación encontrada\n",
        "print(\"Mejores parámetros:\", grid_search.best_params_)\n",
        "print(\"Mejor F1 en CV:\", grid_search.best_score_)\n",
        "\n",
        "# Entrenar modelo final con los mejores parámetros\n",
        "mejor_modelo = grid_search.best_estimator_\n",
        "y_pred = mejor_modelo.predict(Xte)\n",
        "\n",
        "# Evaluación\n",
        "print(\"\\nMatriz de confusión:\")\n",
        "print(confusion_matrix(yte, y_pred))\n",
        "print(\"\\nReporte de clasificación:\")\n",
        "print(classification_report(yte, y_pred))"
      ]
    },
    {
      "cell_type": "code",
      "execution_count": null,
      "metadata": {
        "colab": {
          "base_uri": "https://localhost:8080/"
        },
        "id": "tVHSMby8tM2d",
        "outputId": "e5dd5669-7871-4a5e-c1a0-3c6e0725bb20"
      },
      "outputs": [
        {
          "name": "stdout",
          "output_type": "stream",
          "text": [
            "\n",
            "Matriz de confusión:\n",
            "[[1549    0]\n",
            " [   0 1920]]\n",
            "\n",
            "Reporte de clasificación:\n",
            "              precision    recall  f1-score   support\n",
            "\n",
            "           0       1.00      1.00      1.00      1549\n",
            "           1       1.00      1.00      1.00      1920\n",
            "\n",
            "    accuracy                           1.00      3469\n",
            "   macro avg       1.00      1.00      1.00      3469\n",
            "weighted avg       1.00      1.00      1.00      3469\n",
            "\n"
          ]
        }
      ],
      "source": [
        "# modelo definitivo para \"areaRoca\"\n",
        "\n",
        "# Datos\n",
        "X = data[[\"Municipio\", \"Latitud_Y\", \"Longitud_X\"]]\n",
        "y = data[\"areaRoca\"]\n",
        "\n",
        "# Dividir datos manteniendo proporciones\n",
        "Xtr, Xte, ytr, yte = train_test_split(\n",
        "    X, y,\n",
        "    test_size=0.3,\n",
        "    random_state=42,\n",
        "    stratify=y\n",
        ")\n",
        "\n",
        "# Entrenar modelo final con los mejores parámetros\n",
        "mejor_modelo_roca = RandomForestClassifier(\n",
        "    criterion='gini',\n",
        "    max_depth=None,\n",
        "    max_features='sqrt',\n",
        "    min_samples_leaf=1,\n",
        "    min_samples_split=2,\n",
        "    n_estimators=100,\n",
        "    random_state=42\n",
        ")\n",
        "\n",
        "mejor_modelo_roca.fit(Xtr, ytr)\n",
        "\n",
        "# Predicciones\n",
        "y_pred = mejor_modelo_roca.predict(Xte)\n",
        "\n",
        "# Evaluación\n",
        "print(\"\\nMatriz de confusión:\")\n",
        "print(confusion_matrix(yte, y_pred))\n",
        "\n",
        "print(\"\\nReporte de clasificación:\")\n",
        "print(classification_report(yte, y_pred))\n"
      ]
    },
    {
      "cell_type": "code",
      "execution_count": null,
      "metadata": {
        "colab": {
          "base_uri": "https://localhost:8080/"
        },
        "id": "YkStTrfR1O8r",
        "outputId": "138b6fc4-8828-4e9e-bbf3-b72fc2ed07e3"
      },
      "outputs": [
        {
          "name": "stdout",
          "output_type": "stream",
          "text": [
            "Fitting 5 folds for each of 324 candidates, totalling 1620 fits\n",
            "Mejores parámetros: {'criterion': 'entropy', 'max_depth': 10, 'max_features': 'sqrt', 'min_samples_leaf': 1, 'min_samples_split': 2, 'n_estimators': 200}\n",
            "Mejor F1 en CV: 0.9996528440981821\n",
            "\n",
            "Matriz de confusión:\n",
            "[[1617    1]\n",
            " [   5 1846]]\n",
            "\n",
            "Reporte de clasificación:\n",
            "              precision    recall  f1-score   support\n",
            "\n",
            "           0       1.00      1.00      1.00      1618\n",
            "           1       1.00      1.00      1.00      1851\n",
            "\n",
            "    accuracy                           1.00      3469\n",
            "   macro avg       1.00      1.00      1.00      3469\n",
            "weighted avg       1.00      1.00      1.00      3469\n",
            "\n"
          ]
        }
      ],
      "source": [
        "# Encontrar mejor modelo para \"areaTierras\"\n",
        "# Datos\n",
        "X = data[[\"Municipio\", \"Latitud_Y\", \"Longitud_X\"]]\n",
        "y = data[\"areaTierras\"]\n",
        "\n",
        "# Dividir datos manteniendo proporciones\n",
        "Xtr, Xte, ytr, yte = train_test_split(\n",
        "    X, y,\n",
        "    test_size=0.3,\n",
        "    random_state=42,\n",
        "    stratify=y\n",
        ")\n",
        "\n",
        "# Definimos búsqueda de hiperparámetros\n",
        "param_grid = {\n",
        "    'n_estimators': [100, 200, 300],\n",
        "    'max_depth': [None, 5, 10],\n",
        "    'min_samples_split': [2, 5, 10],\n",
        "    'min_samples_leaf': [1, 2, 4],\n",
        "    'max_features': ['sqrt', 'log2'],\n",
        "    'criterion': ['gini', 'entropy']\n",
        "}\n",
        "\n",
        "# Modelo base\n",
        "rf = RandomForestClassifier(random_state=42)\n",
        "\n",
        "# GridSearchCV para optimizar\n",
        "grid_search = GridSearchCV(\n",
        "    rf,\n",
        "    param_grid,\n",
        "    scoring='f1',  # optimizamos F1 para balancear precisión y recall\n",
        "    cv=5,\n",
        "    n_jobs=-1,\n",
        "    verbose=1\n",
        ")\n",
        "\n",
        "# Entrenar\n",
        "grid_search.fit(Xtr, ytr)\n",
        "\n",
        "# Mejor combinación encontrada\n",
        "print(\"Mejores parámetros:\", grid_search.best_params_)\n",
        "print(\"Mejor F1 en CV:\", grid_search.best_score_)\n",
        "\n",
        "# Entrenar modelo final con los mejores parámetros\n",
        "mejor_modelo = grid_search.best_estimator_\n",
        "y_pred = mejor_modelo.predict(Xte)\n",
        "\n",
        "# Evaluación\n",
        "print(\"\\nMatriz de confusión:\")\n",
        "print(confusion_matrix(yte, y_pred))\n",
        "print(\"\\nReporte de clasificación:\")\n",
        "print(classification_report(yte, y_pred))"
      ]
    },
    {
      "cell_type": "code",
      "execution_count": null,
      "metadata": {
        "colab": {
          "base_uri": "https://localhost:8080/"
        },
        "id": "rhfYkqHM1VN5",
        "outputId": "94a2c947-31fb-4a6d-95b0-6ab5d509f1b9"
      },
      "outputs": [
        {
          "name": "stdout",
          "output_type": "stream",
          "text": [
            "\n",
            "Matriz de confusión:\n",
            "[[1617    1]\n",
            " [   5 1846]]\n",
            "\n",
            "Reporte de clasificación:\n",
            "              precision    recall  f1-score   support\n",
            "\n",
            "           0       1.00      1.00      1.00      1618\n",
            "           1       1.00      1.00      1.00      1851\n",
            "\n",
            "    accuracy                           1.00      3469\n",
            "   macro avg       1.00      1.00      1.00      3469\n",
            "weighted avg       1.00      1.00      1.00      3469\n",
            "\n"
          ]
        }
      ],
      "source": [
        "# modelo definitivo para \"areaTierras\"\n",
        "\n",
        "# Datos\n",
        "X = data[[\"Municipio\", \"Latitud_Y\", \"Longitud_X\"]]\n",
        "y = data[\"areaTierras\"]\n",
        "\n",
        "# Dividir datos manteniendo proporciones\n",
        "Xtr, Xte, ytr, yte = train_test_split(\n",
        "    X, y,\n",
        "    test_size=0.3,\n",
        "    random_state=42,\n",
        "    stratify=y\n",
        ")\n",
        "\n",
        "# Entrenar modelo final con los mejores parámetros\n",
        "mejor_modelo_tierra = RandomForestClassifier(\n",
        "    criterion='entropy',\n",
        "    max_depth=10,\n",
        "    max_features='sqrt',\n",
        "    min_samples_leaf=1,\n",
        "    min_samples_split=2,\n",
        "    n_estimators=200,\n",
        "    random_state=42\n",
        ")\n",
        "\n",
        "mejor_modelo_tierra.fit(Xtr, ytr)\n",
        "\n",
        "# Predicciones\n",
        "y_pred = mejor_modelo_tierra.predict(Xte)\n",
        "\n",
        "# Evaluación\n",
        "print(\"\\nMatriz de confusión:\")\n",
        "print(confusion_matrix(yte, y_pred))\n",
        "\n",
        "print(\"\\nReporte de clasificación:\")\n",
        "print(classification_report(yte, y_pred))\n"
      ]
    },
    {
      "cell_type": "code",
      "execution_count": null,
      "metadata": {
        "colab": {
          "base_uri": "https://localhost:8080/"
        },
        "id": "mcf9mlLFEDH7",
        "outputId": "d837110f-ea59-400f-db23-418eead70d43"
      },
      "outputs": [
        {
          "name": "stdout",
          "output_type": "stream",
          "text": [
            "   Municipio  Latitud_Y  Longitud_X  Subregion\n",
            "0          9     6.2476    -75.5658          1\n",
            "Predicción: 1\n",
            "Predicción: 1\n",
            "Predicción: 1\n",
            "Predicción: 1\n"
          ]
        }
      ],
      "source": [
        "# Predecir nuevos datos\n",
        "\n",
        "nuevos_datos = pd.DataFrame([{\n",
        "    \"Municipio\": \"MEDELLIN\",\n",
        "    \"Latitud_Y\": 6.2476,\n",
        "    \"Longitud_X\": -75.5658,\n",
        "    \"Subregion\": \"VALLE DE ABURRA\"\n",
        "}])\n",
        "\n",
        "nuevos_datos[\"Municipio\"] = nuevos_datos[\"Municipio\"].apply(\n",
        "    lambda x: municipios_unicos.index(x) + 1\n",
        ")\n",
        "\n",
        "nuevos_datos[\"Subregion\"] = nuevos_datos[\"Subregion\"].apply(\n",
        "    lambda x: subregiones_unicas.index(x) + 1\n",
        ")\n",
        "\n",
        "print(nuevos_datos)\n",
        "\n",
        "# Evaluar en el modelo\n",
        "\n",
        "prediccion = mejor_modelo_pavimento.predict(nuevos_datos)\n",
        "print(\"Predicción:\", prediccion[0])\n",
        "\n",
        "prediccion = mejor_modelo_concreto.predict(nuevos_datos)\n",
        "print(\"Predicción:\", prediccion[0])\n",
        "\n",
        "prediccion = mejor_modelo_roca.predict(nuevos_datos)\n",
        "print(\"Predicción:\", prediccion[0])\n",
        "\n",
        "prediccion = mejor_modelo_tierra.predict(nuevos_datos)\n",
        "print(\"Predicción:\", prediccion[0])"
      ]
    },
    {
      "cell_type": "code",
      "execution_count": null,
      "metadata": {
        "colab": {
          "base_uri": "https://localhost:8080/"
        },
        "id": "to-XDGHGfvdu",
        "outputId": "a64f6741-3e9c-4a86-86fd-86acfc6e43aa"
      },
      "outputs": [
        {
          "name": "stdout",
          "output_type": "stream",
          "text": [
            "                          NOMBRE_RAZON_SOCIAL  MUNICIPIO  \\\n",
            "0  RECICLADOS INDUSTRIALES DE COLOMBIA S.A.S.  GIRARDOTA   \n",
            "1  RECICLADOS INDUSTRIALES DE COLOMBIA S.A.S.  GIRARDOTA   \n",
            "2  RECICLADOS INDUSTRIALES DE COLOMBIA S.A.S.  GIRARDOTA   \n",
            "3                                INDURAL S.A.  GIRARDOTA   \n",
            "4                                INDURAL S.A.  GIRARDOTA   \n",
            "\n",
            "                                           DIRECCION          X         Y  \\\n",
            "0  Vereda Portachuelo, predio Reciclados Industri... -75.472555  6.378556   \n",
            "1  Vereda Portachuelo, predio Reciclados Industri... -75.472555  6.378556   \n",
            "2  Vereda Portachuelo, predio Reciclados Industri... -75.472555  6.378556   \n",
            "3                         Vereda Portachuelo, km 1.2 -75.473946  6.378011   \n",
            "4                         Vereda Portachuelo, km 1.2 -75.473946  6.378011   \n",
            "\n",
            "     RECIBE  \n",
            "0       PvF  \n",
            "1  Concreto  \n",
            "2      Base  \n",
            "3  Concreto  \n",
            "4      Base  \n"
          ]
        }
      ],
      "source": [
        "# cargar el conjunto de datos\n",
        "dataGestoresRCD = pd.read_csv(\"gestoresRCD.csv\")\n",
        "\n",
        "# seleccionar columnas específicas\n",
        "dataGestoresRCD = dataGestoresRCD[[\"NOMBRE_RAZON_SOCIAL\", \"MUNICIPIO\", \"DIRECCION\", \"X\", \"Y\", \"RECIBE\"]]\n",
        "\n",
        "print(dataGestoresRCD.head())"
      ]
    },
    {
      "cell_type": "code",
      "execution_count": null,
      "metadata": {
        "colab": {
          "base_uri": "https://localhost:8080/"
        },
        "id": "3JSKs-UenjBJ",
        "outputId": "3894a36f-2562-4f6f-b7e3-254967fa83fe"
      },
      "outputs": [
        {
          "name": "stdout",
          "output_type": "stream",
          "text": [
            "✅ Archivo guardado\n"
          ]
        }
      ],
      "source": [
        "dataGestoresRCD.to_csv(\"datos_gestores_rcd.csv\", index=False, encoding=\"utf-8\")\n",
        "\n",
        "print(\"✅ Archivo guardado\")"
      ]
    }
  ],
  "metadata": {
    "colab": {
      "provenance": []
    },
    "kernelspec": {
      "display_name": "Python 3",
      "name": "python3"
    },
    "language_info": {
      "name": "python"
    }
  },
  "nbformat": 4,
  "nbformat_minor": 0
}
